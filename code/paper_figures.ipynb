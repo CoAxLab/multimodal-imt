{
 "cells": [
  {
   "cell_type": "code",
   "execution_count": null,
   "metadata": {},
   "outputs": [],
   "source": [
    "#data files:\n",
    "#data_path = \"/Users/amy/Desktop/coax/group/n_324/\"\n",
    "data_path = \"../data/\"\n",
    "anat_vol_file = \"PIP_n324_Freesurfer_aseg.csv\"\n",
    "anat_SA_file = \"PIP_n324_Freesurfer_aparc2009_SA.csv\"\n",
    "anat_thickness_file = \"PIP_n324_Freesurfer_aparc2009_thickness.csv\"\n",
    "rs_FC_file = \"PIP_n324_rs-FC_FD_residuals.csv\"\n",
    "#covariates_file = \"PIP_n331_Framingham.csv\"\n",
    "covariates_file = \"PIP_n324_Framingham.csv\"\n",
    "data_file_names = [rs_FC_file, anat_SA_file, anat_thickness_file, anat_vol_file, covariates_file]\n",
    "#demographics_file = \"/Users/amy/Desktop/coax/group/n_324/PIP_n324_demographics_modified.csv\"\n",
    "demographics_file = \"PIP_n324_demographics_modified.csv\"\n",
    "#subj_list = \"/Users/amy/Desktop/coax/group/n_324/subj_list_n324.csv\"\n",
    "subj_list = \"subj_list_n324.csv\""
   ]
  },
  {
   "cell_type": "code",
   "execution_count": null,
   "metadata": {},
   "outputs": [],
   "source": [
    "subject_list = pd.read_csv(subj_list, header=None)\n",
    "str_subject_list = subject_list.astype(str)\n",
    "n_subj = subject_list[0].count()"
   ]
  },
  {
   "cell_type": "code",
   "execution_count": null,
   "metadata": {},
   "outputs": [],
   "source": [
    "def extract_outcome_measure(n_subj, subject_list, outcome_file, ID_column_name, outcome_column_name):\n",
    "\n",
    "    subjects = subject_list.values.reshape(n_subj,)\n",
    "    tmp_df = pd.read_csv(outcome_file, usecols=[ID_column_name, outcome_column_name])\n",
    "    y_tmp = tmp_df.loc[tmp_df[ID_column_name].isin(subjects)]\n",
    "    y = y_tmp[outcome_column_name].values\n",
    "    print(outcome_column_name + \" loaded\")\n",
    "\n",
    "    return y, y_tmp #df coming back with labels"
   ]
  },
  {
   "cell_type": "code",
   "execution_count": null,
   "metadata": {},
   "outputs": [],
   "source": [
    "#extract response variable - IMT\n",
    "outcome_column_name = \"mavgimt\"\n",
    "ID_column_name = \"ID\"\n",
    "y, y_df = extract_outcome_measure(n_subj, str_subject_list, demographics_file, ID_column_name, outcome_column_name)"
   ]
  },
  {
   "cell_type": "code",
   "execution_count": null,
   "metadata": {},
   "outputs": [],
   "source": [
    "xticks = np.arange(0.4,0.95,0.05)\n",
    "\n",
    "fig, ax = plt.subplots(figsize=(10,7))\n",
    "\n",
    "ax = pt.RainCloud(data=y, orient=\"h\", palette='Blues') #BuGn\n",
    "#ax.set_xlabel(\"IMT\", fontsize='x-large')\n",
    "ax.set_xlabel(r'IMT (mm)', size=30, weight = 'bold')\n",
    "ax.yaxis.set_ticklabels([])\n",
    "plt.xticks(np.round(xticks,2))\n",
    "#ax.xaxis.set_ticklabels(np.round(xticks,2))\n",
    "ax.tick_params(axis='x', labelsize=15)\n",
    "plt.tight_layout()\n",
    "plt.savefig('/Users/amy/Desktop/coax/IMT_raincloud_111621.png', dpi=600)"
   ]
  },
  {
   "cell_type": "code",
   "execution_count": null,
   "metadata": {},
   "outputs": [],
   "source": []
  },
  {
   "cell_type": "code",
   "execution_count": null,
   "metadata": {},
   "outputs": [],
   "source": [
    "#extract framingham indices - HCHD, HeartAge, TotalPoints\n",
    "ID_column_name = \"ePrime.id\"\n",
    "\n",
    "TotalPoints_column_name = \"TotalPoints\"\n",
    "TotalPoints_tempX, TotalPoints_df_temp = extract_outcome_measure(n_subj, str_subject_list, data_path+covariates_file, \n",
    "                                                      ID_column_name, TotalPoints_column_name)\n",
    "\n",
    "HCHD_column_name = \"HCHD\"\n",
    "HCHD_tempX, HCHD_df_temp = extract_outcome_measure(n_subj, str_subject_list, data_path+covariates_file, \n",
    "                                        ID_column_name, HCHD_column_name)\n",
    "\n",
    "HeartAge_column_name = \"HeartAge\"\n",
    "HeartAge_tempX, HeartAge_df_temp = extract_outcome_measure(n_subj, str_subject_list, data_path+covariates_file, \n",
    "                                                ID_column_name, HeartAge_column_name)"
   ]
  },
  {
   "cell_type": "code",
   "execution_count": null,
   "metadata": {},
   "outputs": [],
   "source": [
    "#sort df framingham data by ID\n",
    "TotalPoints_df = TotalPoints_df_temp.sort_values(by=[ID_column_name])\n",
    "HCHD_df = HCHD_df_temp.sort_values(by=[ID_column_name])\n",
    "HeartAge_df = HeartAge_df_temp.sort_values(by=[ID_column_name])\n",
    "\n",
    "#get sorted numpy data from df\n",
    "TotalPoints_temp = TotalPoints_df[TotalPoints_column_name].values\n",
    "HCHD_temp = HCHD_df[HCHD_column_name].values\n",
    "HeartAge_temp = HeartAge_df[HeartAge_column_name].values"
   ]
  },
  {
   "cell_type": "code",
   "execution_count": null,
   "metadata": {},
   "outputs": [],
   "source": [
    "# needs to be fixed (got rid of excess subjs in file)\n",
    "i_nan = [57,61,251,273,283,284]\n",
    "np.put(TotalPoints_temp, i_nan, [np.nan,np.nan,np.nan,np.nan,np.nan,np.nan])\n",
    "TotalPoints = TotalPoints_temp.astype(np.float)"
   ]
  },
  {
   "cell_type": "code",
   "execution_count": null,
   "metadata": {},
   "outputs": [],
   "source": [
    "#create covariate channel\n",
    "cov_data = TotalPoints.reshape(-1, 1)\n",
    "cov_data.shape"
   ]
  },
  {
   "cell_type": "code",
   "execution_count": null,
   "metadata": {},
   "outputs": [],
   "source": [
    "#import matplotlib\n",
    "#matplotlib.rc_file_defaults()\n",
    "\n",
    "fig, ax = plt.subplots(figsize=(10,7))\n",
    "ax = pt.RainCloud(data=cov_data, orient=\"h\", palette='Greens')\n",
    "#ax.set_xlabel(\"FRS\", fontsize='x-large')\n",
    "ax.set_xlabel(r'FRS', size=30, weight = 'bold')\n",
    "ax.tick_params(axis='x', labelsize=15)\n",
    "ax.yaxis.set_ticklabels([])\n",
    "plt.tight_layout()\n",
    "plt.savefig('/Users/amy/Desktop/coax/FRS_raincloud_092121.png', dpi=600)\n",
    "\n"
   ]
  },
  {
   "cell_type": "markdown",
   "metadata": {},
   "source": [
    "### Brain age"
   ]
  },
  {
   "cell_type": "code",
   "execution_count": null,
   "metadata": {},
   "outputs": [],
   "source": [
    "# need to save results with pickl and reload here"
   ]
  },
  {
   "cell_type": "code",
   "execution_count": null,
   "metadata": {},
   "outputs": [],
   "source": [
    "#PLOT RESULTS - seaborn aesthetics\n",
    "\n",
    "sns.set()\n",
    "\n",
    "fig, ax = plt.subplots(figsize=(10,10))\n",
    "\n",
    "\n",
    "age_observed = np.concatenate((age_train, age_test))\n",
    "age_predicted_overall = np.concatenate((age_predicted_cv2, age_predicted_test2))\n",
    "\n",
    "#calculate line of best fit\n",
    "slope, line_intercept, r_value, p_value, std_err = linregress(age_observed, age_predicted_overall)\n",
    "line = slope*age_observed + line_intercept\n",
    "\n",
    "\n",
    "ax.scatter(age_observed, age_predicted_overall, color='darkorange', s=16)\n",
    "ax.plot(age_observed, line, color='royalblue')\n",
    "#x0,x1 = ax.get_xlim()\n",
    "#y0,y1 = ax.get_ylim()\n",
    "\n",
    "ax.set_xlabel(r'Chronological age', size=17, weight = 'bold')\n",
    "ax.set_ylabel(r'Predicted brain age', size=17, weight = 'bold')\n",
    "#fig.suptitle('Correlation between observed and predicted intima media thickness (IMT)')\n",
    "ax.set_xlim((29,52))\n",
    "ax.set_ylim((29,52))\n",
    "#ax.set_xticks(np.arange(0.4,0.9,0.08))\n",
    "#ax.set_yticks(np.arange(0.4,0.9,0.08))\n",
    "ax.set_aspect('equal')\n",
    "\n",
    "ax.tick_params(axis='x', labelsize = 15)\n",
    "ax.tick_params(axis='y', labelsize = 15)\n",
    "plt.tight_layout()\n",
    "plt.savefig(\"/Users/amy/Desktop/coax/brain_age_110321.png\", dpi=600)"
   ]
  },
  {
   "cell_type": "code",
   "execution_count": null,
   "metadata": {},
   "outputs": [],
   "source": [
    "print(\"r:\", r_value)\n",
    "print(\"p:\", p_value)"
   ]
  },
  {
   "cell_type": "code",
   "execution_count": null,
   "metadata": {},
   "outputs": [],
   "source": []
  },
  {
   "cell_type": "markdown",
   "metadata": {},
   "source": [
    "## FRS vs. IMT"
   ]
  },
  {
   "cell_type": "code",
   "execution_count": null,
   "metadata": {},
   "outputs": [],
   "source": [
    "# load pickled data"
   ]
  },
  {
   "cell_type": "code",
   "execution_count": null,
   "metadata": {},
   "outputs": [],
   "source": [
    "FRS = cov_data_imputed.reshape(-1,)"
   ]
  },
  {
   "cell_type": "code",
   "execution_count": null,
   "metadata": {},
   "outputs": [],
   "source": [
    "x_ticks = np.arange(-15,22.5,2.5)\n",
    "y_ticks = np.arange(0.4,0.95,0.05)\n",
    "x_ticks"
   ]
  },
  {
   "cell_type": "code",
   "execution_count": null,
   "metadata": {},
   "outputs": [],
   "source": [
    "sns.set()\n",
    "\n",
    "fig, axes = plt.subplots(figsize=(10,10))\n",
    "\n",
    "#calculate line of best fit\n",
    "slope, line_intercept, r_value, p_value, std_err = linregress(FRS, y)\n",
    "line = slope*FRS + line_intercept\n",
    "\n",
    "axes.scatter(FRS, y, color='darkorange', s=16)\n",
    "axes.plot(FRS, line, color='royalblue')\n",
    "\n",
    "axes.set_xlabel(r'FRS', size=30, weight = 'bold')\n",
    "axes.set_ylabel(r'IMT (mm)', size=30, weight = 'bold')\n",
    "axes.tick_params(axis='x', labelsize = 15)\n",
    "axes.tick_params(axis='y', labelsize = 15)\n",
    "plt.yticks(np.round(y_ticks,2))\n",
    "#plt.xticks(np.round(x_ticks,2))\n",
    "plt.tight_layout()\n",
    "plt.savefig(\"/Users/amy/Desktop/coax/FRS_IMT_111621.png\", dpi=600)\n",
    "\n",
    "\n",
    "\n",
    "#ax.xaxis.set_ticklabels(np.round(xticks,2))"
   ]
  },
  {
   "cell_type": "code",
   "execution_count": null,
   "metadata": {},
   "outputs": [],
   "source": [
    "r_value\n",
    "p_value"
   ]
  },
  {
   "cell_type": "code",
   "execution_count": null,
   "metadata": {},
   "outputs": [],
   "source": []
  },
  {
   "cell_type": "code",
   "execution_count": null,
   "metadata": {},
   "outputs": [],
   "source": []
  },
  {
   "cell_type": "code",
   "execution_count": null,
   "metadata": {},
   "outputs": [],
   "source": []
  },
  {
   "cell_type": "code",
   "execution_count": null,
   "metadata": {},
   "outputs": [],
   "source": []
  },
  {
   "cell_type": "code",
   "execution_count": null,
   "metadata": {},
   "outputs": [],
   "source": []
  },
  {
   "cell_type": "code",
   "execution_count": null,
   "metadata": {},
   "outputs": [],
   "source": []
  },
  {
   "cell_type": "code",
   "execution_count": null,
   "metadata": {},
   "outputs": [],
   "source": []
  },
  {
   "cell_type": "code",
   "execution_count": null,
   "metadata": {},
   "outputs": [],
   "source": []
  },
  {
   "cell_type": "code",
   "execution_count": null,
   "metadata": {},
   "outputs": [],
   "source": []
  },
  {
   "cell_type": "code",
   "execution_count": null,
   "metadata": {},
   "outputs": [],
   "source": []
  },
  {
   "cell_type": "code",
   "execution_count": null,
   "metadata": {},
   "outputs": [],
   "source": []
  },
  {
   "cell_type": "code",
   "execution_count": null,
   "metadata": {},
   "outputs": [],
   "source": []
  },
  {
   "cell_type": "code",
   "execution_count": null,
   "metadata": {},
   "outputs": [],
   "source": [
    "clr_palette = ['blue','blue','blue','blue','blue',\n",
    "               'orange','orange','orange','orange','orange','orange','orange','orange','orange','orange','orange',\n",
    "               'green','green','green','green','green','green','green','green','green','green','green','green',\n",
    "               'green','green','green']\n",
    "#clr_palette"
   ]
  },
  {
   "cell_type": "code",
   "execution_count": null,
   "metadata": {},
   "outputs": [],
   "source": [
    "import matplotlib\n",
    "matplotlib.rc_file_defaults()"
   ]
  },
  {
   "cell_type": "code",
   "execution_count": null,
   "metadata": {},
   "outputs": [],
   "source": [
    "f = open('/Users/amy/Desktop/coax/group/n_324/mc_comb_rmse.pckl', 'rb')\n",
    "[rmse, str_subset] = pickle.load(f) # rmse (+ str_subset for channel combination order)\n",
    "f.close()"
   ]
  },
  {
   "cell_type": "code",
   "execution_count": null,
   "metadata": {},
   "outputs": [],
   "source": [
    "f = open('/Users/amy/Desktop/coax/group/n_324/mc_single_channel_predictions_rmse.pckl', 'rb')\n",
    "[single_channel_rmse] = pickle.load(f) \n",
    "f.close()"
   ]
  },
  {
   "cell_type": "code",
   "execution_count": null,
   "metadata": {},
   "outputs": [],
   "source": [
    "#v2 with (1,2,3,4,5) instead of (0,1,2,3,4)\n",
    "\n",
    "#change to aascending order separated by FI\n",
    "str_brain = []\n",
    "str_FI = []\n",
    "brain_i = []\n",
    "FI_i = []\n",
    "for i,sub in enumerate(str_subset_v2):\n",
    "    if '5' in sub:\n",
    "        str_FI.append(sub)\n",
    "        FI_i.append(i)\n",
    "    else:\n",
    "        str_brain.append(sub)\n",
    "        brain_i.append(i)\n",
    "\n",
    "rmse_brain = rmse[:,brain_i]\n",
    "rmse_FI = rmse[:,FI_i]\n",
    "\n",
    "comb_r2_FI = comb_r2[:,FI_i]\n",
    "comb_r2_brain = comb_r2[:,brain_i]\n",
    "\n",
    "comb_bic_FI = comb_bic[:,FI_i]\n",
    "comb_bic_brain = comb_bic[:,brain_i]\n",
    "\n",
    "r_brain = comb_r[:,brain_i]\n",
    "r_FI = comb_r[:,FI_i]\n",
    "\n"
   ]
  },
  {
   "cell_type": "code",
   "execution_count": null,
   "metadata": {},
   "outputs": [],
   "source": []
  },
  {
   "cell_type": "code",
   "execution_count": null,
   "metadata": {},
   "outputs": [],
   "source": [
    "#v2 with (1,2,3,4,5) instead of (0,1,2,3,4)\n",
    "\n",
    "#rmse sorted in order of subset (i.e. increasing complexity) with FI separated\n",
    "\n",
    "single_channels = ['resting-state FC', 'cortical SA', 'cortical thickness', 'subcortical volume', 'FRS']\n",
    "\n",
    "mc_cc_rmse_dict = dict()\n",
    "\n",
    "for  j, name in enumerate(single_channels):\n",
    "    mc_cc_rmse_dict[name] = single_channel_rmse[:, j] \n",
    "\n",
    "for  i, name in enumerate(str_brain):\n",
    "    mc_cc_rmse_dict[name] = rmse_brain[:, i] \n",
    "    \n",
    "for  k, name in enumerate(str_FI):\n",
    "    mc_cc_rmse_dict[name] = rmse_FI[:, k] \n",
    "\n",
    "\n",
    "mc_cc_rmse_df = pd.melt(pd.DataFrame(mc_cc_rmse_dict))"
   ]
  },
  {
   "cell_type": "code",
   "execution_count": null,
   "metadata": {},
   "outputs": [],
   "source": [
    "fig, ax = plt.subplots(figsize=(25,15))\n",
    "\n",
    "sns.stripplot(y='value', \n",
    "              x='variable', \n",
    "              data=mc_cc_rmse_df, \n",
    "              size= 6,\n",
    "              alpha=0.25,\n",
    "              jitter=0.2,\n",
    "              linewidth = 1,\n",
    "              color = 'white',\n",
    "              edgecolor ='black',\n",
    "              ax = ax)\n",
    "\n",
    "sns.pointplot(y='value', \n",
    "              x='variable', \n",
    "              data=mc_cc_rmse_df, \n",
    "              estimator = np.median, \n",
    "              seed = 0, \n",
    "              color='black',\n",
    "              #errwidth=6,\n",
    "              capsize=.05,\n",
    "              linestyles='--',\n",
    "              #scale=0.8,\n",
    "              #errcolor=\".05\",\n",
    "              ax=ax)\n",
    "\n",
    "sns.barplot(y='value', \n",
    "            x='variable', \n",
    "            data=mc_cc_rmse_df, \n",
    "            estimator = np.median,\n",
    "            #capsize=0,\n",
    "            #linewidth=0.,#2.5,\n",
    "            #errwidth = 0,\n",
    "            #errcolor=\".05\", edgecolor=\".05\",\n",
    "            alpha=0.75,\n",
    "            palette = clr_palette,\n",
    "            ax = ax)\n",
    "\n",
    "ax.axhline(0.0848, ls='--', lw=4)\n",
    "ax.set_ylabel(r'Root mean squared error (RMSE)', size=30, weight = 'bold')\n",
    "ax.set_xlabel(r'Channel (single or combination)', size=30, weight = 'bold')\n",
    "\n",
    "ax.tick_params(axis='y', labelsize=30)\n",
    "ax.set_xticklabels(mc_cc_rmse_dict.keys(), rotation='vertical', size=30)\n",
    "#ax.set_title(\"\", size=50, weight = 'bold', loc='center')\n",
    "plt.ylim([0.07, 0.105])\n",
    "plt.tight_layout()\n",
    "plt.savefig(\"/Users/amy/Desktop/coax/monte_carlo_channel_combination_rmse_092521.png\", dpi=600)"
   ]
  },
  {
   "cell_type": "code",
   "execution_count": null,
   "metadata": {},
   "outputs": [],
   "source": [
    "single_channel_rmse_median = np.median(single_channel_rmse,axis=0)\n",
    "print(single_channel_rmse_median)"
   ]
  },
  {
   "cell_type": "code",
   "execution_count": null,
   "metadata": {},
   "outputs": [],
   "source": [
    "rmse_brain_median = np.median(rmse_brain,axis=0)\n",
    "print(rmse_brain_median)\n",
    "print(\"min\", np.min(rmse_brain_median),\"max\", np.max(rmse_brain_median))"
   ]
  },
  {
   "cell_type": "code",
   "execution_count": null,
   "metadata": {},
   "outputs": [],
   "source": [
    "rmse_FI_median = np.median(rmse_FI,axis=0)\n",
    "print(rmse_FI_median)\n",
    "print(\"min\", np.min(rmse_FI_median),\"max\", np.max(rmse_FI_median))"
   ]
  },
  {
   "cell_type": "code",
   "execution_count": null,
   "metadata": {},
   "outputs": [],
   "source": [
    "rmse_brain_mean = np.mean(rmse_brain,axis=0)\n",
    "print(rmse_brain_mean)\n",
    "print(\"min\", np.min(rmse_brain_mean),\"max\", np.max(rmse_brain_mean))"
   ]
  },
  {
   "cell_type": "code",
   "execution_count": null,
   "metadata": {},
   "outputs": [],
   "source": [
    "rmse_FI_mean = np.mean(rmse_FI,axis=0)\n",
    "print(rmse_FI_mean)\n",
    "print(\"min\", np.min(rmse_FI_mean),\"max\", np.max(rmse_FI_mean))"
   ]
  },
  {
   "cell_type": "code",
   "execution_count": null,
   "metadata": {},
   "outputs": [],
   "source": []
  },
  {
   "cell_type": "code",
   "execution_count": null,
   "metadata": {},
   "outputs": [],
   "source": [
    "f = open('/Users/amy/Desktop/coax/group/n_324/mc_comb_metrics.pckl', 'rb')\n",
    "[comb_r, comb_r2, comb_bf, str_subset] = pickle.load(f) # r, r2, bf (+ str_subset for channel combination order)\n",
    "f.close()"
   ]
  },
  {
   "cell_type": "code",
   "execution_count": null,
   "metadata": {},
   "outputs": [],
   "source": []
  },
  {
   "cell_type": "code",
   "execution_count": null,
   "metadata": {},
   "outputs": [],
   "source": [
    "# single channel r, r2\n",
    "f = open('/Users/amy/Desktop/coax/group/n_324/mc_single_channel_r_r2.pckl', 'rb')\n",
    "[single_channel_r, single_channel_r2] = pickle.load(f)\n",
    "f.close()"
   ]
  },
  {
   "cell_type": "code",
   "execution_count": null,
   "metadata": {},
   "outputs": [],
   "source": [
    "r_brain = comb_r[:,brain_i]\n",
    "r_FI = comb_r[:,FI_i]\n",
    "\n",
    "r2_brain = comb_r2[:,brain_i]\n",
    "r2_FI = comb_r2[:,FI_i]"
   ]
  },
  {
   "cell_type": "code",
   "execution_count": null,
   "metadata": {},
   "outputs": [],
   "source": [
    "#r sorted in order of subset (i.e. increasing complexity) with FI separated\n",
    "\n",
    "single_channels = ['resting-state FC', 'cortical SA', 'cortical thickness', 'subcortical volume', 'FRS']\n",
    "\n",
    "mc_cc_r_dict = dict()\n",
    "\n",
    "for  j, name in enumerate(single_channels):\n",
    "    mc_cc_r_dict[name] = single_channel_r[:, j] \n",
    "\n",
    "for  i, name in enumerate(str_brain):\n",
    "    mc_cc_r_dict[name] = r_brain[:, i] \n",
    "    \n",
    "for  k, name in enumerate(str_FI):\n",
    "    mc_cc_r_dict[name] = r_FI[:, k] \n",
    "\n",
    "\n",
    "mc_cc_r_df = pd.melt(pd.DataFrame(mc_cc_r_dict))"
   ]
  },
  {
   "cell_type": "code",
   "execution_count": null,
   "metadata": {},
   "outputs": [],
   "source": [
    "fig, ax = plt.subplots(figsize=(25,15))\n",
    "\n",
    "sns.stripplot(y='value', \n",
    "              x='variable', \n",
    "              data=mc_cc_r_df, \n",
    "              size= 6,\n",
    "              alpha=0.25,\n",
    "              jitter=0.2,\n",
    "              linewidth = 1,\n",
    "              color = 'white',\n",
    "              edgecolor ='black',\n",
    "              ax = ax)\n",
    "\n",
    "sns.pointplot(y='value', \n",
    "              x='variable', \n",
    "              data=mc_cc_r_df, \n",
    "              estimator = np.median, \n",
    "              seed = 0, \n",
    "              color='black',\n",
    "              #errwidth=6,\n",
    "              capsize=.05,\n",
    "              linestyles='--',\n",
    "              #scale=0.8,\n",
    "              #errcolor=\".05\",\n",
    "              ax=ax)\n",
    "\n",
    "sns.barplot(y='value', \n",
    "            x='variable', \n",
    "            data=mc_cc_r_df, \n",
    "            estimator = np.median,\n",
    "            #capsize=0,\n",
    "            #linewidth=0.,#2.5,\n",
    "            #errwidth = 0,\n",
    "            #errcolor=\".05\", edgecolor=\".05\",\n",
    "            alpha=0.75,\n",
    "            palette = clr_palette,\n",
    "            ax = ax)\n",
    "\n",
    "ax.set_ylabel(r'Pearson correlation coefficient, r', size=30, weight = 'bold')\n",
    "ax.set_xlabel(r'Channel (single or combination)', size=30, weight = 'bold')\n",
    "\n",
    "ax.tick_params(axis='y', labelsize=30)\n",
    "ax.set_xticklabels(mc_cc_r_dict.keys(), rotation='vertical', size=30)\n",
    "#ax.set_title(\"\", size=50, weight = 'bold', loc='center')\n",
    "#plt.ylim([0.07, 0.105])\n",
    "plt.tight_layout()\n",
    "plt.savefig(\"/Users/amy/Desktop/coax/monte_carlo_channel_combination_r_092521.png\", dpi=600)"
   ]
  },
  {
   "cell_type": "code",
   "execution_count": null,
   "metadata": {},
   "outputs": [],
   "source": [
    "single_channel_r_median = np.median(single_channel_r,axis=0)\n",
    "print(single_channel_r_median)"
   ]
  },
  {
   "cell_type": "code",
   "execution_count": null,
   "metadata": {},
   "outputs": [],
   "source": [
    "r_brain_median = np.median(r_brain,axis=0)\n",
    "print(r_brain_median)\n",
    "print(\"min\", np.min(r_brain_median),\"max\", np.max(r_brain_median))"
   ]
  },
  {
   "cell_type": "code",
   "execution_count": null,
   "metadata": {},
   "outputs": [],
   "source": [
    "r_FI_median = np.median(r_FI,axis=0)\n",
    "print(r_FI_median)\n",
    "print(\"min\", np.min(r_FI_median),\"max\", np.max(r_FI_median))"
   ]
  },
  {
   "cell_type": "code",
   "execution_count": null,
   "metadata": {},
   "outputs": [],
   "source": [
    "r_brain_mean = np.mean(r_brain,axis=0)\n",
    "print(r_brain_mean)\n",
    "print(\"min\", np.min(r_brain_mean),\"max\", np.max(r_brain_mean))"
   ]
  },
  {
   "cell_type": "code",
   "execution_count": null,
   "metadata": {},
   "outputs": [],
   "source": [
    "r_FI_mean = np.mean(r_FI,axis=0)\n",
    "print(r_FI_mean)\n",
    "print(\"min\", np.min(r_FI_mean),\"max\", np.max(r_FI_mean))"
   ]
  },
  {
   "cell_type": "code",
   "execution_count": null,
   "metadata": {},
   "outputs": [],
   "source": []
  },
  {
   "cell_type": "code",
   "execution_count": null,
   "metadata": {},
   "outputs": [],
   "source": [
    "#r2 sorted in order of subset (i.e. increasing complexity) with FI separated\n",
    "\n",
    "single_channels = ['resting-state FC', 'cortical SA', 'cortical thickness', 'subcortical volume', 'FRS']\n",
    "\n",
    "mc_cc_r2_dict = dict()\n",
    "\n",
    "for  j, name in enumerate(single_channels):\n",
    "    mc_cc_r2_dict[name] = single_channel_r2[:, j] \n",
    "\n",
    "for  i, name in enumerate(str_brain):\n",
    "    mc_cc_r2_dict[name] = comb_r2_brain[:, i] \n",
    "    \n",
    "for  k, name in enumerate(str_FI):\n",
    "    mc_cc_r2_dict[name] = comb_r2_FI[:, k] \n",
    "\n",
    "\n",
    "mc_cc_r2_df = pd.melt(pd.DataFrame(mc_cc_r2_dict))"
   ]
  },
  {
   "cell_type": "code",
   "execution_count": null,
   "metadata": {},
   "outputs": [],
   "source": [
    "fig, ax = plt.subplots(figsize=(25,15))\n",
    "\n",
    "sns.stripplot(y='value', \n",
    "              x='variable', \n",
    "              data=mc_cc_r2_df, \n",
    "              size= 6,\n",
    "              alpha=0.25,\n",
    "              jitter=0.2,\n",
    "              linewidth = 1,\n",
    "              color = 'white',\n",
    "              edgecolor ='black',\n",
    "              ax = ax)\n",
    "\n",
    "sns.pointplot(y='value', \n",
    "              x='variable', \n",
    "              data=mc_cc_r2_df, \n",
    "              estimator = np.median, \n",
    "              seed = 0, \n",
    "              color='black',\n",
    "              #errwidth=6,\n",
    "              capsize=.05,\n",
    "              linestyles='--',\n",
    "              #scale=0.8,\n",
    "              #errcolor=\".05\",\n",
    "              ax=ax)\n",
    "\n",
    "sns.barplot(y='value', \n",
    "            x='variable', \n",
    "            data=mc_cc_r2_df, \n",
    "            estimator = np.median,\n",
    "            #capsize=0,\n",
    "            #linewidth=0.,#2.5,\n",
    "            #errwidth = 0,\n",
    "            #errcolor=\".05\", edgecolor=\".05\",\n",
    "            alpha=0.75,\n",
    "            palette = clr_palette,\n",
    "            ax = ax)\n",
    "\n",
    "ax.set_ylabel(r'Coefficient of determination, $R^2$', size=30, weight = 'bold')\n",
    "ax.set_xlabel(r'Channel (single or combination)', size=30, weight = 'bold')\n",
    "\n",
    "ax.tick_params(axis='y', labelsize=30)\n",
    "ax.set_xticklabels(mc_cc_r2_dict.keys(), rotation='vertical', size=30)\n",
    "#ax.set_title(\"\", size=50, weight = 'bold', loc='center')\n",
    "#plt.ylim([0.07, 0.105])\n",
    "plt.tight_layout()\n",
    "plt.savefig(\"/Users/amy/Desktop/coax/monte_carlo_channel_combination_r2_102321.png\", dpi=600)"
   ]
  },
  {
   "cell_type": "code",
   "execution_count": null,
   "metadata": {},
   "outputs": [],
   "source": [
    "mc_r2_rsFC_mean = np.mean(mc_cc_r2_dict['resting-state FC'])\n",
    "mc_r2_rsFC_mean"
   ]
  },
  {
   "cell_type": "code",
   "execution_count": null,
   "metadata": {},
   "outputs": [],
   "source": [
    "mc_r2_rsFC_median = np.median(mc_cc_r2_dict['resting-state FC'])\n",
    "mc_r2_rsFC_median"
   ]
  },
  {
   "cell_type": "code",
   "execution_count": null,
   "metadata": {},
   "outputs": [],
   "source": [
    "mc_r2_SA_mean = np.mean(mc_cc_r2_dict['cortical SA'])\n",
    "mc_r2_SA_mean"
   ]
  },
  {
   "cell_type": "code",
   "execution_count": null,
   "metadata": {},
   "outputs": [],
   "source": [
    "mc_r2_SA_median = np.median(mc_cc_r2_dict['cortical SA'])\n",
    "mc_r2_SA_median"
   ]
  },
  {
   "cell_type": "code",
   "execution_count": null,
   "metadata": {},
   "outputs": [],
   "source": [
    "mc_r2_ct_mean = np.mean(mc_cc_r2_dict['cortical thickness'])\n",
    "mc_r2_ct_mean"
   ]
  },
  {
   "cell_type": "code",
   "execution_count": null,
   "metadata": {},
   "outputs": [],
   "source": [
    "mc_r2_ct_median = np.median(mc_cc_r2_dict['cortical thickness'])\n",
    "mc_r2_ct_median"
   ]
  },
  {
   "cell_type": "code",
   "execution_count": null,
   "metadata": {},
   "outputs": [],
   "source": [
    "mc_r2_vol_mean = np.mean(mc_cc_r2_dict['subcortical volume'])\n",
    "mc_r2_vol_mean"
   ]
  },
  {
   "cell_type": "code",
   "execution_count": null,
   "metadata": {},
   "outputs": [],
   "source": [
    "mc_r2_vol_median = np.median(mc_cc_r2_dict['subcortical volume'])\n",
    "mc_r2_vol_median"
   ]
  },
  {
   "cell_type": "code",
   "execution_count": null,
   "metadata": {},
   "outputs": [],
   "source": [
    "mc_r2_frs_mean = np.mean(mc_cc_r2_dict['FRS'])\n",
    "mc_r2_frs_mean"
   ]
  },
  {
   "cell_type": "code",
   "execution_count": null,
   "metadata": {},
   "outputs": [],
   "source": [
    "mc_r2_frs_median = np.median(mc_cc_r2_dict['FRS'])\n",
    "mc_r2_frs_median"
   ]
  },
  {
   "cell_type": "code",
   "execution_count": null,
   "metadata": {},
   "outputs": [],
   "source": [
    "np.mean(comb_r2,axis=0)"
   ]
  },
  {
   "cell_type": "code",
   "execution_count": null,
   "metadata": {},
   "outputs": [],
   "source": [
    "np.median(comb_r2,axis=0)"
   ]
  },
  {
   "cell_type": "code",
   "execution_count": null,
   "metadata": {},
   "outputs": [],
   "source": [
    "# comb_bic + str_subset\n",
    "f = open('/Users/amy/Desktop/coax/group/n_324/mc_comb_bic.pckl', 'rb')\n",
    "[comb_bic, str_subset] = pickle.load(f)\n",
    "f.close()\n",
    "\n",
    "# step1_bic \n",
    "f = open('/Users/amy/Desktop/coax/group/n_324/mc_single_channel_bic.pckl', 'rb')\n",
    "[step1_bics] = pickle.load(f)\n",
    "f.close()"
   ]
  },
  {
   "cell_type": "code",
   "execution_count": null,
   "metadata": {},
   "outputs": [],
   "source": [
    "#bic sorted in order of subset (i.e. increasing complexity) with FI separated\n",
    "\n",
    "single_channels = ['resting-state FC', 'cortical SA', 'cortical thickness', 'subcortical volume', 'FRS']\n",
    "\n",
    "mc_cc_bic_dict = dict()\n",
    "\n",
    "for  j, name in enumerate(single_channels):\n",
    "    mc_cc_bic_dict[name] = step1_bics[:, j] \n",
    "\n",
    "for  i, name in enumerate(str_brain):\n",
    "    mc_cc_bic_dict[name] = comb_bic_brain[:, i] \n",
    "    \n",
    "for  k, name in enumerate(str_FI):\n",
    "    mc_cc_bic_dict[name] = comb_bic_FI[:, k] \n",
    "\n",
    "\n",
    "mc_cc_bic_df = pd.melt(pd.DataFrame(mc_cc_bic_dict))"
   ]
  },
  {
   "cell_type": "code",
   "execution_count": null,
   "metadata": {},
   "outputs": [],
   "source": [
    "np.median(step1_bics, axis=0)"
   ]
  },
  {
   "cell_type": "code",
   "execution_count": null,
   "metadata": {},
   "outputs": [],
   "source": [
    "np.median(comb_bic, axis=0)"
   ]
  },
  {
   "cell_type": "code",
   "execution_count": null,
   "metadata": {},
   "outputs": [],
   "source": [
    "import matplotlib.gridspec as gridspec\n",
    "\n",
    "\n",
    "ylim = [80000, 84000]\n",
    "ylim2  = [-400, 400]\n",
    "ylimratio = (ylim[1]-ylim[0])/(ylim2[1]-ylim2[0]+ylim[1]-ylim[0])\n",
    "ylim2ratio = (ylim2[1]-ylim2[0])/(ylim2[1]-ylim2[0]+ylim[1]-ylim[0])\n",
    "\n",
    "gs = gridspec.GridSpec(2, 1, height_ratios=[ylim2ratio, ylimratio])\n",
    "fig = plt.figure(figsize=(25,15))\n",
    "ax1 = fig.add_subplot(gs[0])\n",
    "ax2 = fig.add_subplot(gs[1])\n",
    "\n",
    "sns.stripplot(y='value', \n",
    "              x='variable', \n",
    "              data=mc_cc_bic_df, \n",
    "              size= 6,\n",
    "              alpha=0.25,\n",
    "              jitter=0.2,\n",
    "              linewidth = 1,\n",
    "              color = 'white',\n",
    "              edgecolor ='black',\n",
    "              ax=ax1)\n",
    "\n",
    "sns.pointplot(y='value', \n",
    "              x='variable', \n",
    "              data=mc_cc_bic_df, \n",
    "              estimator = np.median, \n",
    "              seed = 0, \n",
    "              color='black',\n",
    "              #errwidth=6,\n",
    "              capsize=.05,\n",
    "              linestyles='--',\n",
    "              #scale=0.8,\n",
    "              #errcolor=\".05\",\n",
    "              ax=ax1)\n",
    "\n",
    "sns.barplot(y='value', \n",
    "            x='variable', \n",
    "            data=mc_cc_bic_df, \n",
    "            estimator = np.median,\n",
    "            #capsize=0,\n",
    "            #linewidth=0.,#2.5,\n",
    "            #errwidth = 0,\n",
    "            #errcolor=\".05\", edgecolor=\".05\",\n",
    "            alpha=0.75,\n",
    "            palette = clr_palette,\n",
    "            ax=ax1)\n",
    "\n",
    "sns.stripplot(y='value', \n",
    "              x='variable', \n",
    "              data=mc_cc_bic_df, \n",
    "              size= 6,\n",
    "              alpha=0.25,\n",
    "              jitter=0.2,\n",
    "              linewidth = 1,\n",
    "              color = 'white',\n",
    "              edgecolor ='black',\n",
    "              ax=ax2)\n",
    "\n",
    "sns.pointplot(y='value', \n",
    "              x='variable', \n",
    "              data=mc_cc_bic_df, \n",
    "              estimator = np.median, \n",
    "              seed = 0, \n",
    "              color='black',\n",
    "              #errwidth=6,\n",
    "              capsize=.05,\n",
    "              linestyles='--',\n",
    "              #scale=0.8,\n",
    "              #errcolor=\".05\",\n",
    "              ax=ax2)\n",
    "\n",
    "sns.barplot(y='value', \n",
    "            x='variable', \n",
    "            data=mc_cc_bic_df, \n",
    "            estimator = np.median,\n",
    "            #capsize=0,\n",
    "            #linewidth=0.,#2.5,\n",
    "            #errwidth = 0,\n",
    "            #errcolor=\".05\", edgecolor=\".05\",\n",
    "            alpha=0.75,\n",
    "            palette = clr_palette,\n",
    "            ax=ax2)\n",
    "\n",
    "ax1.set_ylim(ylim) #top subplot\n",
    "ax2.set_ylim(ylim2) #bottom subplot\n",
    "\n",
    "plt.subplots_adjust(hspace=0.01)\n",
    "\n",
    "ax1.spines['bottom'].set_visible(False)\n",
    "ax2.spines['top'].set_visible(False)\n",
    "ax1.xaxis.tick_top()\n",
    "ax1.xaxis.set_ticks_position('none')\n",
    "ax1.tick_params(labeltop=False)\n",
    "ax2.xaxis.tick_bottom()\n",
    "\n",
    "ax1.tick_params(axis='y', labelsize=25)\n",
    "ax2.tick_params(axis='y', labelsize=25)\n",
    "ax2.set_xticklabels(mc_cc_bic_dict.keys(), rotation='vertical', size=30)\n",
    "\n",
    "ax1.set_xlabel('')\n",
    "ax1.set_ylabel('')\n",
    "ax2.set_xlabel(r'Channel (single or combination)', size=30, weight = 'bold')\n",
    "ax2.set_ylabel(r'Bayesian information criterion', size=30, weight = 'bold')\n",
    "ax2.yaxis.set_label_coords(0.05, 0.65, transform=fig.transFigure)\n",
    "\n",
    "kwargs = dict(color='k', clip_on=False)\n",
    "xlim = ax1.get_xlim()\n",
    "dx = .02*(xlim[1]-xlim[0])\n",
    "dy = .01*(ylim[1]-ylim[0])/ylim2ratio\n",
    "ax1.plot((xlim[0]-dx,xlim[0]+dx), (ylim[0]-dy,ylim[0]+dy), **kwargs)\n",
    "ax1.plot((xlim[1]-dx,xlim[1]+dx), (ylim[0]-dy,ylim[0]+dy), **kwargs)\n",
    "dy = .01*(ylim2[1]-ylim2[0])/ylimratio\n",
    "ax2.plot((xlim[0]-dx,xlim[0]+dx), (ylim2[1]-dy,ylim2[1]+dy), **kwargs)\n",
    "ax2.plot((xlim[1]-dx,xlim[1]+dx), (ylim2[1]-dy,ylim2[1]+dy), **kwargs)\n",
    "ax1.set_xlim(xlim)\n",
    "ax2.set_xlim(xlim)\n",
    "\n",
    "\n",
    "\n",
    "\n",
    "\n",
    "\n",
    "\n",
    "#ax.set_title(\"\", size=50, weight = 'bold', loc='center')\n",
    "\n",
    "plt.tight_layout()\n",
    "#plt.savefig(\"/Users/amy/Desktop/coax/monte_carlo_channel_combination_bic_102521.png\", dpi=600)"
   ]
  },
  {
   "cell_type": "markdown",
   "metadata": {},
   "source": [
    "## OLD"
   ]
  },
  {
   "cell_type": "code",
   "execution_count": 1,
   "metadata": {},
   "outputs": [],
   "source": [
    "import matplotlib.pyplot as plt\n",
    "import numpy as np\n",
    "import pandas as pd\n",
    "import pickle\n",
    "import ptitprince as pt\n",
    "import seaborn as sns\n",
    "\n",
    "from nilearn import datasets, image, plotting\n",
    "from scipy.stats import linregress, pearsonr, spearmanr"
   ]
  },
  {
   "cell_type": "markdown",
   "metadata": {},
   "source": [
    "### Load Data"
   ]
  },
  {
   "cell_type": "code",
   "execution_count": 7,
   "metadata": {},
   "outputs": [],
   "source": [
    "def load_combined_data(data_path, filename):\n",
    "\n",
    "    if 'rs-FC' in filename:\n",
    "        X_df = pd.read_csv(data_path + filename, header=None)\n",
    "    else:\n",
    "        X_df_temp = pd.read_csv(data_path + filename) #header=None\n",
    "        X_df = X_df_temp.drop(X_df_temp.columns[0], axis=1)\n",
    "        \n",
    "    X = X_df.values\n",
    "    print(filename + \" loaded\")\n",
    "\n",
    "    return X, X_df"
   ]
  }
 ],
 "metadata": {
  "kernelspec": {
   "display_name": "Python 3",
   "language": "python",
   "name": "python3"
  },
  "language_info": {
   "codemirror_mode": {
    "name": "ipython",
    "version": 3
   },
   "file_extension": ".py",
   "mimetype": "text/x-python",
   "name": "python",
   "nbconvert_exporter": "python",
   "pygments_lexer": "ipython3",
   "version": "3.7.4"
  }
 },
 "nbformat": 4,
 "nbformat_minor": 2
}
